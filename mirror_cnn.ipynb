{
 "cells": [
  {
   "cell_type": "code",
   "execution_count": 10,
   "metadata": {},
   "outputs": [],
   "source": [
    "##kernelが止まるようなエラーがでる場合\n",
    "import os\n",
    "os.environ['KMP_DUPLICATE_LIB_OK']='True'\n",
    "\n"
   ]
  },
  {
   "cell_type": "code",
   "execution_count": 11,
   "metadata": {},
   "outputs": [
    {
     "data": {
      "text/plain": [
       "Index(['filenames', 'abnormal'], dtype='object')"
      ]
     },
     "execution_count": 11,
     "metadata": {},
     "output_type": "execute_result"
    }
   ],
   "source": [
    "\n",
    "import pandas as pd\n",
    "import numpy as np\n",
    "from keras.preprocessing.image import load_img, img_to_array\n",
    "\n",
    "gsdata = pd.read_csv(\"./trainingdata.csv\")\n",
    "\n",
    "gsdata.columns\n"
   ]
  },
  {
   "cell_type": "code",
   "execution_count": 12,
   "metadata": {},
   "outputs": [
    {
     "data": {
      "text/plain": [
       "(342, 128, 128, 1)"
      ]
     },
     "execution_count": 12,
     "metadata": {},
     "output_type": "execute_result"
    }
   ],
   "source": [
    "trainingImgData = np.zeros((len(gsdata[\"filenames\"]), 128, 128, 1))\n",
    "for i in range(0, len(gsdata[\"filenames\"])):\n",
    "    fnametmp = './JPGs/%s' %gsdata[\"filenames\"][i]\n",
    "    trainingImgData[i] = np.array(img_to_array(load_img(fnametmp, grayscale=True, target_size=(128,128))))/255.0\n",
    "trainingImgData.shape\n"
   ]
  },
  {
   "cell_type": "code",
   "execution_count": 13,
   "metadata": {},
   "outputs": [],
   "source": [
    "trainingGSData = np.zeros((len(gsdata[\"abnormal\"]),  1), dtype='int')\n",
    "for i in range(0, len(gsdata[\"filenames\"])):\n",
    "   trainingGSData[i][0]=gsdata[\"abnormal\"][i]\n",
    "trainingGS = trainingGSData.copy()\n",
    "from tensorflow.python.keras.utils import to_categorical\n",
    "onehotlabel_train = to_categorical(trainingGS, 2)\n"
   ]
  },
  {
   "cell_type": "code",
   "execution_count": 14,
   "metadata": {},
   "outputs": [
    {
     "name": "stdout",
     "output_type": "stream",
     "text": [
      "(342, 128, 128, 1)\n",
      "(342, 1)\n",
      "(342, 2)\n"
     ]
    }
   ],
   "source": [
    "print(trainingImgData.shape)\n",
    "print(trainingGSData.shape)\n",
    "print(onehotlabel_train.shape)"
   ]
  },
  {
   "cell_type": "code",
   "execution_count": 15,
   "metadata": {},
   "outputs": [],
   "source": [
    "from tensorflow.python.keras.models import Sequential\n",
    "from tensorflow.python.keras.layers import Conv2D\n",
    "from tensorflow.python.keras.layers import MaxPooling2D\n",
    "from tensorflow.python.keras.layers import Dropout\n",
    "from tensorflow.python.keras.layers import Flatten\n",
    "from tensorflow.python.keras.layers import Dense\n",
    "model = Sequential()\n",
    "model.add(\n",
    "    Conv2D(\n",
    "        filters = 32,\n",
    "        input_shape=(128, 128, 1),\n",
    "        kernel_size=(3, 3),\n",
    "        strides=(1, 1),\n",
    "        padding='same',\n",
    "        activation='relu'\n",
    "    )\n",
    ")\n",
    "\n",
    "model.add(\n",
    "    Conv2D(\n",
    "        filters = 32,\n",
    "        kernel_size = (3, 3),\n",
    "        strides = (1, 1),\n",
    "        padding = 'same',\n",
    "        activation = 'relu'\n",
    "    )\n",
    ")\n",
    "\n",
    "#プーリング層とドロップアウトの設定（１）\n",
    "model.add(MaxPooling2D(pool_size = (2, 2)))\n",
    "model.add(Dropout(0.25))\n",
    "\n",
    "\n",
    "#畳み込み層の追加（２）\n",
    "model.add(\n",
    "    Conv2D(\n",
    "        filters = 64,\n",
    "        kernel_size=(3, 3),\n",
    "        strides=(1, 1),\n",
    "        padding='same',\n",
    "        activation='relu'\n",
    "    )\n",
    ")\n",
    "\n",
    "model.add(\n",
    "    Conv2D(\n",
    "        filters = 64,\n",
    "        kernel_size = (3, 3),\n",
    "        strides = (1, 1),\n",
    "        padding = 'same',\n",
    "        activation = 'relu'\n",
    "    )\n",
    ")\n",
    "model.add(MaxPooling2D(pool_size = (2, 2)))\n",
    "model.add(Dropout(0.25))\n",
    "model.add(Flatten())\n",
    "model.add(Dense(units=512, activation='relu'))\n",
    "model.add(Dropout(0.5))\n",
    "model.add(Dense(units= 2, activation='softmax'))\n",
    "\n"
   ]
  },
  {
   "cell_type": "code",
   "execution_count": 16,
   "metadata": {
    "scrolled": true
   },
   "outputs": [
    {
     "name": "stdout",
     "output_type": "stream",
     "text": [
      "_________________________________________________________________\n",
      "Layer (type)                 Output Shape              Param #   \n",
      "=================================================================\n",
      "conv2d (Conv2D)              (None, 128, 128, 32)      320       \n",
      "_________________________________________________________________\n",
      "conv2d_1 (Conv2D)            (None, 128, 128, 32)      9248      \n",
      "_________________________________________________________________\n",
      "max_pooling2d (MaxPooling2D) (None, 64, 64, 32)        0         \n",
      "_________________________________________________________________\n",
      "dropout (Dropout)            (None, 64, 64, 32)        0         \n",
      "_________________________________________________________________\n",
      "conv2d_2 (Conv2D)            (None, 64, 64, 64)        18496     \n",
      "_________________________________________________________________\n",
      "conv2d_3 (Conv2D)            (None, 64, 64, 64)        36928     \n",
      "_________________________________________________________________\n",
      "max_pooling2d_1 (MaxPooling2 (None, 32, 32, 64)        0         \n",
      "_________________________________________________________________\n",
      "dropout_1 (Dropout)          (None, 32, 32, 64)        0         \n",
      "_________________________________________________________________\n",
      "flatten (Flatten)            (None, 65536)             0         \n",
      "_________________________________________________________________\n",
      "dense (Dense)                (None, 512)               33554944  \n",
      "_________________________________________________________________\n",
      "dropout_2 (Dropout)          (None, 512)               0         \n",
      "_________________________________________________________________\n",
      "dense_1 (Dense)              (None, 2)                 1026      \n",
      "=================================================================\n",
      "Total params: 33,620,962\n",
      "Trainable params: 33,620,962\n",
      "Non-trainable params: 0\n",
      "_________________________________________________________________\n"
     ]
    }
   ],
   "source": [
    "model.compile(\n",
    "\tloss='binary_crossentropy', \n",
    "\toptimizer='adam', \n",
    "\tmetrics=['accuracy'])\n",
    "model.summary()"
   ]
  },
  {
   "cell_type": "code",
   "execution_count": 17,
   "metadata": {},
   "outputs": [
    {
     "name": "stdout",
     "output_type": "stream",
     "text": [
      "Train on 273 samples, validate on 69 samples\n",
      "Epoch 1/50\n",
      "273/273 [==============================] - 21s 79ms/step - loss: 0.6800 - acc: 0.6190 - val_loss: 0.1739 - val_acc: 1.0000\n",
      "Epoch 2/50\n",
      "273/273 [==============================] - 1s 4ms/step - loss: 0.3445 - acc: 0.8388 - val_loss: 0.0446 - val_acc: 1.0000\n",
      "Epoch 3/50\n",
      "273/273 [==============================] - 1s 4ms/step - loss: 0.1675 - acc: 0.9487 - val_loss: 0.0162 - val_acc: 1.0000\n",
      "Epoch 4/50\n",
      "273/273 [==============================] - 1s 4ms/step - loss: 0.1646 - acc: 0.9414 - val_loss: 0.3338 - val_acc: 0.7971\n",
      "Epoch 5/50\n",
      "273/273 [==============================] - 1s 5ms/step - loss: 0.1341 - acc: 0.9414 - val_loss: 5.7877e-04 - val_acc: 1.0000\n",
      "Epoch 6/50\n",
      "273/273 [==============================] - 1s 4ms/step - loss: 0.0304 - acc: 0.9927 - val_loss: 0.0019 - val_acc: 1.0000\n",
      "Epoch 7/50\n",
      "273/273 [==============================] - 1s 5ms/step - loss: 0.0573 - acc: 0.9927 - val_loss: 0.0019 - val_acc: 1.0000\n",
      "Epoch 8/50\n",
      "273/273 [==============================] - 1s 5ms/step - loss: 0.0429 - acc: 0.9853 - val_loss: 6.3937e-04 - val_acc: 1.0000\n",
      "Epoch 9/50\n",
      "273/273 [==============================] - 1s 4ms/step - loss: 0.0820 - acc: 0.9597 - val_loss: 0.0013 - val_acc: 1.0000\n",
      "Epoch 10/50\n",
      "273/273 [==============================] - 1s 4ms/step - loss: 0.0117 - acc: 1.0000 - val_loss: 6.1903e-05 - val_acc: 1.0000\n",
      "Epoch 11/50\n",
      "273/273 [==============================] - 1s 5ms/step - loss: 0.0057 - acc: 1.0000 - val_loss: 6.6732e-06 - val_acc: 1.0000\n",
      "Epoch 12/50\n",
      "273/273 [==============================] - 1s 5ms/step - loss: 0.0019 - acc: 1.0000 - val_loss: 2.8974e-05 - val_acc: 1.0000\n",
      "Epoch 13/50\n",
      "273/273 [==============================] - 1s 5ms/step - loss: 4.1038e-04 - acc: 1.0000 - val_loss: 1.5065e-05 - val_acc: 1.0000\n",
      "Epoch 14/50\n",
      "273/273 [==============================] - 1s 5ms/step - loss: 2.7324e-04 - acc: 1.0000 - val_loss: 5.9518e-06 - val_acc: 1.0000\n",
      "Epoch 15/50\n",
      "273/273 [==============================] - 1s 5ms/step - loss: 3.1848e-04 - acc: 1.0000 - val_loss: 2.4889e-06 - val_acc: 1.0000\n",
      "Epoch 16/50\n",
      "273/273 [==============================] - 1s 4ms/step - loss: 3.2048e-04 - acc: 1.0000 - val_loss: 2.7101e-06 - val_acc: 1.0000\n",
      "Epoch 17/50\n",
      "273/273 [==============================] - 1s 5ms/step - loss: 8.2414e-05 - acc: 1.0000 - val_loss: 1.0587e-06 - val_acc: 1.0000\n",
      "Epoch 18/50\n",
      "273/273 [==============================] - 1s 5ms/step - loss: 2.0103e-04 - acc: 1.0000 - val_loss: 1.5219e-06 - val_acc: 1.0000\n",
      "Epoch 19/50\n",
      "273/273 [==============================] - 1s 4ms/step - loss: 0.0035 - acc: 1.0000 - val_loss: 1.8370e-07 - val_acc: 1.0000\n",
      "Epoch 20/50\n",
      "273/273 [==============================] - 1s 4ms/step - loss: 0.0019 - acc: 1.0000 - val_loss: 2.5137e-06 - val_acc: 1.0000\n",
      "Epoch 21/50\n",
      "273/273 [==============================] - 1s 4ms/step - loss: 0.0012 - acc: 1.0000 - val_loss: 1.2913e-07 - val_acc: 1.0000\n",
      "Epoch 22/50\n",
      "273/273 [==============================] - 1s 5ms/step - loss: 0.1829 - acc: 0.9597 - val_loss: 9.7849e-04 - val_acc: 1.0000\n",
      "Epoch 23/50\n",
      "273/273 [==============================] - 1s 5ms/step - loss: 0.0549 - acc: 0.9817 - val_loss: 1.4031e-06 - val_acc: 1.0000\n",
      "Epoch 24/50\n",
      "273/273 [==============================] - 1s 5ms/step - loss: 0.1300 - acc: 0.9707 - val_loss: 2.1471e-06 - val_acc: 1.0000\n",
      "Epoch 25/50\n",
      "273/273 [==============================] - 1s 5ms/step - loss: 0.2222 - acc: 0.9414 - val_loss: 0.0067 - val_acc: 1.0000\n",
      "Epoch 26/50\n",
      "273/273 [==============================] - 1s 5ms/step - loss: 0.0631 - acc: 0.9817 - val_loss: 0.0852 - val_acc: 1.0000\n",
      "Epoch 27/50\n",
      "273/273 [==============================] - 1s 5ms/step - loss: 0.0867 - acc: 0.9707 - val_loss: 0.0024 - val_acc: 1.0000\n",
      "Epoch 28/50\n",
      "273/273 [==============================] - 1s 5ms/step - loss: 0.0099 - acc: 0.9963 - val_loss: 1.0938e-04 - val_acc: 1.0000\n",
      "Epoch 29/50\n",
      "273/273 [==============================] - 1s 5ms/step - loss: 0.0033 - acc: 1.0000 - val_loss: 2.1542e-04 - val_acc: 1.0000\n",
      "Epoch 30/50\n",
      "273/273 [==============================] - 1s 5ms/step - loss: 5.0749e-04 - acc: 1.0000 - val_loss: 7.6163e-05 - val_acc: 1.0000\n",
      "Epoch 31/50\n",
      "273/273 [==============================] - 1s 5ms/step - loss: 2.2999e-04 - acc: 1.0000 - val_loss: 3.2568e-05 - val_acc: 1.0000\n",
      "Epoch 32/50\n",
      "273/273 [==============================] - 1s 5ms/step - loss: 3.3541e-04 - acc: 1.0000 - val_loss: 1.5334e-05 - val_acc: 1.0000\n",
      "Epoch 33/50\n",
      "273/273 [==============================] - 1s 5ms/step - loss: 3.5610e-04 - acc: 1.0000 - val_loss: 7.8029e-06 - val_acc: 1.0000\n",
      "Epoch 34/50\n",
      "273/273 [==============================] - 1s 5ms/step - loss: 1.5326e-04 - acc: 1.0000 - val_loss: 4.4124e-06 - val_acc: 1.0000\n",
      "Epoch 35/50\n",
      "273/273 [==============================] - 1s 5ms/step - loss: 7.7078e-05 - acc: 1.0000 - val_loss: 3.9439e-06 - val_acc: 1.0000\n",
      "Epoch 36/50\n",
      "273/273 [==============================] - 1s 5ms/step - loss: 0.1052 - acc: 0.9890 - val_loss: 0.1111 - val_acc: 0.9855\n",
      "Epoch 37/50\n",
      "273/273 [==============================] - 1s 5ms/step - loss: 0.5398 - acc: 0.8791 - val_loss: 0.0142 - val_acc: 1.0000\n",
      "Epoch 38/50\n",
      "273/273 [==============================] - 1s 4ms/step - loss: 0.1515 - acc: 0.9231 - val_loss: 7.4668e-05 - val_acc: 1.0000\n",
      "Epoch 39/50\n",
      "273/273 [==============================] - 1s 5ms/step - loss: 0.0148 - acc: 0.9927 - val_loss: 3.6430e-06 - val_acc: 1.0000\n",
      "Epoch 40/50\n",
      "273/273 [==============================] - 1s 5ms/step - loss: 0.0038 - acc: 1.0000 - val_loss: 2.2263e-06 - val_acc: 1.0000\n",
      "Epoch 41/50\n",
      "273/273 [==============================] - 1s 4ms/step - loss: 5.0378e-04 - acc: 1.0000 - val_loss: 1.3949e-06 - val_acc: 1.0000\n",
      "Epoch 42/50\n",
      "273/273 [==============================] - 1s 5ms/step - loss: 0.0329 - acc: 0.9890 - val_loss: 2.0278e-06 - val_acc: 1.0000\n",
      "Epoch 43/50\n",
      "273/273 [==============================] - 1s 5ms/step - loss: 7.0594e-04 - acc: 1.0000 - val_loss: 7.3116e-07 - val_acc: 1.0000\n",
      "Epoch 44/50\n",
      "273/273 [==============================] - 1s 5ms/step - loss: 0.0010 - acc: 1.0000 - val_loss: 4.7036e-07 - val_acc: 1.0000\n",
      "Epoch 45/50\n",
      "273/273 [==============================] - 1s 5ms/step - loss: 4.4578e-04 - acc: 1.0000 - val_loss: 2.5565e-07 - val_acc: 1.0000\n",
      "Epoch 46/50\n",
      "273/273 [==============================] - 1s 4ms/step - loss: 2.8199e-04 - acc: 1.0000 - val_loss: 2.2678e-07 - val_acc: 1.0000\n",
      "Epoch 47/50\n",
      "273/273 [==============================] - 1s 4ms/step - loss: 7.1809e-05 - acc: 1.0000 - val_loss: 2.2248e-07 - val_acc: 1.0000\n",
      "Epoch 48/50\n",
      "273/273 [==============================] - 1s 5ms/step - loss: 2.3775e-05 - acc: 1.0000 - val_loss: 2.1307e-07 - val_acc: 1.0000\n",
      "Epoch 49/50\n",
      "273/273 [==============================] - 1s 5ms/step - loss: 1.1372e-04 - acc: 1.0000 - val_loss: 2.0480e-07 - val_acc: 1.0000\n",
      "Epoch 50/50\n",
      "273/273 [==============================] - 1s 4ms/step - loss: 8.3073e-04 - acc: 1.0000 - val_loss: 1.5010e-07 - val_acc: 1.0000\n"
     ]
    }
   ],
   "source": [
    "hist = model.fit(trainingImgData, onehotlabel_train,\n",
    "                batch_size=8, \n",
    "                epochs=50, \n",
    "                validation_split=0.2, \n",
    "                verbose=1)\n"
   ]
  },
  {
   "cell_type": "code",
   "execution_count": 18,
   "metadata": {},
   "outputs": [],
   "source": [
    "from keras.models import load_model\n",
    "model.save('myCNNClassificationMirror.h5')"
   ]
  },
  {
   "cell_type": "code",
   "execution_count": 19,
   "metadata": {},
   "outputs": [
    {
     "name": "stdout",
     "output_type": "stream",
     "text": [
      "342/342 [==============================] - 1s 3ms/step\n",
      "342/342 [==============================] - 0s 679us/step\n",
      "1.0\n",
      "[[193   0]\n",
      " [  0 149]]\n"
     ]
    }
   ],
   "source": [
    "resubgender = model.predict(trainingImgData, verbose=1)\n",
    "from sklearn.metrics import accuracy_score, confusion_matrix\n",
    "results = list(model.predict_classes(trainingImgData, verbose=1))\n",
    "score = accuracy_score(trainingGS, results)\n",
    "print(score)\n",
    "cmatrix = confusion_matrix(trainingGS, results)\n",
    "print(cmatrix)\n"
   ]
  },
  {
   "cell_type": "code",
   "execution_count": 20,
   "metadata": {},
   "outputs": [],
   "source": [
    "resubgender.shape\n",
    "resubgender[:,1]\n",
    "trainingGS = trainingGS.copy()\n",
    "trainingGS = np.ravel(trainingGS)"
   ]
  },
  {
   "cell_type": "code",
   "execution_count": 21,
   "metadata": {},
   "outputs": [],
   "source": [
    "from sklearn.metrics import roc_auc_score\n",
    "from sklearn.metrics import roc_curve\n",
    "from sklearn import metrics\n",
    "import matplotlib.pyplot as plt\n",
    "fpf, tpf, thresholds = metrics.roc_curve(trainingGS, resubgender[:,1])"
   ]
  },
  {
   "cell_type": "code",
   "execution_count": 22,
   "metadata": {},
   "outputs": [
    {
     "data": {
      "text/plain": [
       "[<matplotlib.lines.Line2D at 0x28743f7e908>]"
      ]
     },
     "execution_count": 22,
     "metadata": {},
     "output_type": "execute_result"
    },
    {
     "data": {
      "image/png": "[encoded data removed]",
      "text/plain": [
       "<Figure size 432x288 with 1 Axes>"
      ]
     },
     "metadata": {
      "needs_background": "light"
     },
     "output_type": "display_data"
    }
   ],
   "source": [
    "import matplotlib.pyplot as plt\n",
    "plt.plot(fpf, tpf)"
   ]
  },
  {
   "cell_type": "code",
   "execution_count": 23,
   "metadata": {},
   "outputs": [
    {
     "data": {
      "text/plain": [
       "1.0"
      ]
     },
     "execution_count": 23,
     "metadata": {},
     "output_type": "execute_result"
    }
   ],
   "source": [
    "roc_auc_score(trainingGS, resubgender[:,1])"
   ]
  },
  {
   "cell_type": "code",
   "execution_count": 31,
   "metadata": {},
   "outputs": [
    {
     "name": "stderr",
     "output_type": "stream",
     "text": [
      "C:\\Users\\ipteca16\\Anaconda3\\envs\\dls\\lib\\site-packages\\keras_preprocessing\\image\\utils.py:104: UserWarning: grayscale is deprecated. Please use color_mode = \"grayscale\"\n",
      "  warnings.warn('grayscale is deprecated. Please use '\n"
     ]
    },
    {
     "name": "stdout",
     "output_type": "stream",
     "text": [
      "1.0\n"
     ]
    },
    {
     "data": {
      "image/png": "[encoded data removed]",
      "text/plain": [
       "<Figure size 432x288 with 1 Axes>"
      ]
     },
     "metadata": {
      "needs_background": "light"
     },
     "output_type": "display_data"
    }
   ],
   "source": [
    "testdata = pd.read_csv(\"./testdata.csv\")\n",
    "testImgData = np.zeros((len(testdata[\"filenames\"]), 128, 128, 1))\n",
    "\n",
    "for i in range(0, len(testdata[\"filenames\"])):\n",
    "    fnametmp = './JPGs/%s' %testdata[\"filenames\"][i]\n",
    "    testImgData[i] = np.array(img_to_array(load_img(fnametmp, grayscale=True, target_size=(128,128))))/255.0\n",
    "testGSData = np.zeros((len(testdata[\"abnormal\"]),  1), dtype='int')\n",
    "for i in range(0, len(testdata[\"filenames\"])):\n",
    "   testGSData[i][0]=testdata[\"abnormal\"][i]\n",
    "testGS = testGSData.copy()\n",
    "testGS = np.ravel(testGS)\n",
    "valigender = model.predict(testImgData)\n",
    "fpf, tpf, thresholds = metrics.roc_curve(testGS, valigender[:,1])\n",
    "plt.plot(fpf, tpf)\n",
    "\n",
    "print(roc_auc_score(testGS, valigender[:,1]))"
   ]
  },
  {
   "cell_type": "code",
   "execution_count": 26,
   "metadata": {},
   "outputs": [
    {
     "data": {
      "image/png": "[encoded data removed]",
      "text/plain": [
       "<Figure size 432x432 with 1 Axes>"
      ]
     },
     "metadata": {
      "needs_background": "light"
     },
     "output_type": "display_data"
    },
    {
     "name": "stdout",
     "output_type": "stream",
     "text": [
      "AUC = 1.0\n"
     ]
    }
   ],
   "source": [
    "plt.figure(figsize=(6,6))\n",
    "plt.plot(fpf, tpf)\n",
    "plt.xlabel(\"False Positive Fraction\")\n",
    "plt.ylabel(\"True Positive Fraction\")\n",
    "plt.title(\"ROC curve for discriminating male or female from Chest XP\")\n",
    "plt.show()\n",
    "auc =roc_auc_score(testGS, valigender[:,1])\n",
    "print('AUC =', round(auc, 3))"
   ]
  },
  {
   "cell_type": "code",
   "execution_count": 27,
   "metadata": {},
   "outputs": [
    {
     "data": {
      "text/plain": [
       "25"
      ]
     },
     "execution_count": 27,
     "metadata": {},
     "output_type": "execute_result"
    }
   ],
   "source": [
    "len(testGS)"
   ]
  },
  {
   "cell_type": "code",
   "execution_count": null,
   "metadata": {},
   "outputs": [],
   "source": []
  }
 ],
 "metadata": {
  "kernelspec": {
   "display_name": "Python 3",
   "language": "python",
   "name": "python3"
  },
  "language_info": {
   "codemirror_mode": {
    "name": "ipython",
    "version": 3
   },
   "file_extension": ".py",
   "mimetype": "text/x-python",
   "name": "python",
   "nbconvert_exporter": "python",
   "pygments_lexer": "ipython3",
   "version": "3.6.10"
  }
 },
 "nbformat": 4,
 "nbformat_minor": 2
}
